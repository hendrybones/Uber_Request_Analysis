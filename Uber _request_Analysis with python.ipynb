{
 "cells": [
  {
   "cell_type": "markdown",
   "id": "8cff6e38",
   "metadata": {},
   "source": [
    "## Demand and Supply analysis for uber"
   ]
  },
  {
   "cell_type": "code",
   "execution_count": null,
   "id": "3975dfe4",
   "metadata": {},
   "outputs": [],
   "source": [
    "import pandas as pd\n",
    "import numpy as np\n",
    "import datetime as dt\n",
    "import plotly.express as px\n",
    "import plotly.graph_objects as go\n",
    "import plotly.io as pio\n",
    "import seaborn as sns\n",
    "import matplotlib.pyplot as plt\n",
    "pio.templates.default = \"plotly_white\"\n",
    "data = pd.read_csv('Uber Request Data.csv')\n",
    "print(data.head())"
   ]
  },
  {
   "cell_type": "markdown",
   "id": "8d98e7da",
   "metadata": {},
   "source": [
    "## Cheking null values in our data set"
   ]
  },
  {
   "cell_type": "code",
   "execution_count": 50,
   "id": "b921cec4",
   "metadata": {},
   "outputs": [
    {
     "name": "stdout",
     "output_type": "stream",
     "text": [
      "Request id              0\n",
      "Pickup point            0\n",
      "Driver id            2650\n",
      "Status                  0\n",
      "Request timestamp       0\n",
      "Drop timestamp       3914\n",
      "dtype: int64\n"
     ]
    }
   ],
   "source": [
    "print(data.isnull().sum())"
   ]
  },
  {
   "cell_type": "markdown",
   "id": "eba1f917",
   "metadata": {},
   "source": [
    "## cheking number of our records"
   ]
  },
  {
   "cell_type": "code",
   "execution_count": 51,
   "id": "ca08b69c",
   "metadata": {},
   "outputs": [
    {
     "name": "stdout",
     "output_type": "stream",
     "text": [
      "6745\n",
      "6\n"
     ]
    }
   ],
   "source": [
    "rows=data.shape[0]\n",
    "columns=data.shape[1]\n",
    "print(rows)\n",
    "print(columns)\n",
    "\n"
   ]
  },
  {
   "cell_type": "markdown",
   "id": "5008e11f",
   "metadata": {},
   "source": [
    "## Cheking basic information about our data set"
   ]
  },
  {
   "cell_type": "code",
   "execution_count": 52,
   "id": "1814cad3",
   "metadata": {},
   "outputs": [
    {
     "name": "stdout",
     "output_type": "stream",
     "text": [
      "<class 'pandas.core.frame.DataFrame'>\n",
      "RangeIndex: 6745 entries, 0 to 6744\n",
      "Data columns (total 6 columns):\n",
      " #   Column             Non-Null Count  Dtype  \n",
      "---  ------             --------------  -----  \n",
      " 0   Request id         6745 non-null   int64  \n",
      " 1   Pickup point       6745 non-null   object \n",
      " 2   Driver id          4095 non-null   float64\n",
      " 3   Status             6745 non-null   object \n",
      " 4   Request timestamp  6745 non-null   object \n",
      " 5   Drop timestamp     2831 non-null   object \n",
      "dtypes: float64(1), int64(1), object(4)\n",
      "memory usage: 316.3+ KB\n"
     ]
    }
   ],
   "source": [
    "data.info()"
   ]
  },
  {
   "cell_type": "markdown",
   "id": "ee70b601",
   "metadata": {},
   "source": [
    "## How many trips were completed and cancelled"
   ]
  },
  {
   "cell_type": "code",
   "execution_count": 53,
   "id": "8fdd9bfe",
   "metadata": {},
   "outputs": [
    {
     "data": {
      "text/plain": [
       "Trip Completed       2831\n",
       "No Cars Available    2650\n",
       "Cancelled            1264\n",
       "Name: Status, dtype: int64"
      ]
     },
     "execution_count": 53,
     "metadata": {},
     "output_type": "execute_result"
    }
   ],
   "source": [
    "data.Status.value_counts()"
   ]
  },
  {
   "cell_type": "markdown",
   "id": "101c0cec",
   "metadata": {},
   "source": [
    "## Rename columns for easy manipulation"
   ]
  },
  {
   "cell_type": "code",
   "execution_count": 54,
   "id": "844ea9ba",
   "metadata": {
    "scrolled": false
   },
   "outputs": [
    {
     "data": {
      "text/html": [
       "<div>\n",
       "<style scoped>\n",
       "    .dataframe tbody tr th:only-of-type {\n",
       "        vertical-align: middle;\n",
       "    }\n",
       "\n",
       "    .dataframe tbody tr th {\n",
       "        vertical-align: top;\n",
       "    }\n",
       "\n",
       "    .dataframe thead th {\n",
       "        text-align: right;\n",
       "    }\n",
       "</style>\n",
       "<table border=\"1\" class=\"dataframe\">\n",
       "  <thead>\n",
       "    <tr style=\"text-align: right;\">\n",
       "      <th></th>\n",
       "      <th>Request_id</th>\n",
       "      <th>Pickup_point</th>\n",
       "      <th>Driver_id</th>\n",
       "      <th>status</th>\n",
       "      <th>Request_timestamp</th>\n",
       "      <th>Drop_timestamp</th>\n",
       "    </tr>\n",
       "  </thead>\n",
       "  <tbody>\n",
       "    <tr>\n",
       "      <th>0</th>\n",
       "      <td>619</td>\n",
       "      <td>Airport</td>\n",
       "      <td>1.0</td>\n",
       "      <td>Trip Completed</td>\n",
       "      <td>11/7/2016 11:51</td>\n",
       "      <td>11/7/2016 13:00</td>\n",
       "    </tr>\n",
       "    <tr>\n",
       "      <th>1</th>\n",
       "      <td>867</td>\n",
       "      <td>Airport</td>\n",
       "      <td>1.0</td>\n",
       "      <td>Trip Completed</td>\n",
       "      <td>11/7/2016 17:57</td>\n",
       "      <td>11/7/2016 18:47</td>\n",
       "    </tr>\n",
       "    <tr>\n",
       "      <th>2</th>\n",
       "      <td>1807</td>\n",
       "      <td>City</td>\n",
       "      <td>1.0</td>\n",
       "      <td>Trip Completed</td>\n",
       "      <td>12/7/2016 9:17</td>\n",
       "      <td>12/7/2016 9:58</td>\n",
       "    </tr>\n",
       "    <tr>\n",
       "      <th>3</th>\n",
       "      <td>2532</td>\n",
       "      <td>Airport</td>\n",
       "      <td>1.0</td>\n",
       "      <td>Trip Completed</td>\n",
       "      <td>12/7/2016 21:08</td>\n",
       "      <td>12/7/2016 22:03</td>\n",
       "    </tr>\n",
       "    <tr>\n",
       "      <th>4</th>\n",
       "      <td>3112</td>\n",
       "      <td>City</td>\n",
       "      <td>1.0</td>\n",
       "      <td>Trip Completed</td>\n",
       "      <td>13-07-2016 08:33:16</td>\n",
       "      <td>13-07-2016 09:25:47</td>\n",
       "    </tr>\n",
       "  </tbody>\n",
       "</table>\n",
       "</div>"
      ],
      "text/plain": [
       "   Request_id Pickup_point  Driver_id          status    Request_timestamp  \\\n",
       "0         619      Airport        1.0  Trip Completed      11/7/2016 11:51   \n",
       "1         867      Airport        1.0  Trip Completed      11/7/2016 17:57   \n",
       "2        1807         City        1.0  Trip Completed       12/7/2016 9:17   \n",
       "3        2532      Airport        1.0  Trip Completed      12/7/2016 21:08   \n",
       "4        3112         City        1.0  Trip Completed  13-07-2016 08:33:16   \n",
       "\n",
       "        Drop_timestamp  \n",
       "0      11/7/2016 13:00  \n",
       "1      11/7/2016 18:47  \n",
       "2       12/7/2016 9:58  \n",
       "3      12/7/2016 22:03  \n",
       "4  13-07-2016 09:25:47  "
      ]
     },
     "execution_count": 54,
     "metadata": {},
     "output_type": "execute_result"
    }
   ],
   "source": [
    "## first we rename columns in the data set\n",
    "newData=data.rename(columns={'Request id': 'Request_id', 'Driver id': 'Driver_id','Pickup point':'Pickup_point',\n",
    "                             'Request timestamp':'Request_timestamp','Drop timestamp':'Drop_timestamp','Status':'status'})\n",
    "newData.head()"
   ]
  },
  {
   "cell_type": "markdown",
   "id": "9c11af05",
   "metadata": {},
   "source": [
    "## Number of driver and average tips in our data set"
   ]
  },
  {
   "cell_type": "code",
   "execution_count": 55,
   "id": "48ca8931",
   "metadata": {},
   "outputs": [
    {
     "data": {
      "text/html": [
       "<div>\n",
       "<style scoped>\n",
       "    .dataframe tbody tr th:only-of-type {\n",
       "        vertical-align: middle;\n",
       "    }\n",
       "\n",
       "    .dataframe tbody tr th {\n",
       "        vertical-align: top;\n",
       "    }\n",
       "\n",
       "    .dataframe thead th {\n",
       "        text-align: right;\n",
       "    }\n",
       "</style>\n",
       "<table border=\"1\" class=\"dataframe\">\n",
       "  <thead>\n",
       "    <tr style=\"text-align: right;\">\n",
       "      <th></th>\n",
       "      <th>Total No. of Drivers</th>\n",
       "      <th>Total Demand Per Day</th>\n",
       "      <th>Trip_Completed_Count_Per_Day</th>\n",
       "      <th>Trip_cancelled_count_per_day</th>\n",
       "    </tr>\n",
       "  </thead>\n",
       "  <tbody>\n",
       "    <tr>\n",
       "      <th>0</th>\n",
       "      <td>300</td>\n",
       "      <td>1349.0</td>\n",
       "      <td>566.2</td>\n",
       "      <td>252.8</td>\n",
       "    </tr>\n",
       "  </tbody>\n",
       "</table>\n",
       "</div>"
      ],
      "text/plain": [
       "   Total No. of Drivers  Total Demand Per Day  Trip_Completed_Count_Per_Day  \\\n",
       "0                   300                1349.0                         566.2   \n",
       "\n",
       "    Trip_cancelled_count_per_day  \n",
       "0                          252.8  "
      ]
     },
     "execution_count": 55,
     "metadata": {},
     "output_type": "execute_result"
    }
   ],
   "source": [
    "# rideNum=newData.groupby('Driver_id')['Request_id'].nunique() \n",
    "# print(rideNum)\n",
    "# creating a small dataframe to identify the number of drivers and average trip they complete daily\n",
    "demand_vs_supply = pd.DataFrame({'Total No. of Drivers':[newData['Driver_id'].nunique()], \n",
    "                                 'Total Demand Per Day':[newData['Request_id'].nunique()/5],\n",
    "                                 'Trip_Completed_Count_Per_Day':newData[(newData['status']=='Trip Completed')].shape[0]/5,\n",
    "                                 ' Trip_cancelled_count_per_day' :newData[newData['status']=='Cancelled'].shape[0]/5})\n",
    "                                 \n",
    "demand_vs_supply\n"
   ]
  },
  {
   "cell_type": "markdown",
   "id": "50094ad3",
   "metadata": {},
   "source": [
    "\n",
    "## On average how many request each driver gets per day"
   ]
  },
  {
   "cell_type": "code",
   "execution_count": 59,
   "id": "16ea1d1e",
   "metadata": {},
   "outputs": [
    {
     "data": {
      "text/plain": [
       "0    4.496667\n",
       "dtype: float64"
      ]
     },
     "execution_count": 59,
     "metadata": {},
     "output_type": "execute_result"
    }
   ],
   "source": [
    "# on average how many request each driver gets\n",
    "demand_vs_supply['Total Demand Per Day']/demand_vs_supply['Total No. of Drivers']"
   ]
  },
  {
   "cell_type": "markdown",
   "id": "97cabfeb",
   "metadata": {},
   "source": [
    "## The driver with the highest number of rides"
   ]
  },
  {
   "cell_type": "code",
   "execution_count": 60,
   "id": "9a01464c",
   "metadata": {},
   "outputs": [
    {
     "name": "stdout",
     "output_type": "stream",
     "text": [
      "22\n"
     ]
    }
   ],
   "source": [
    "rideNum=newData.groupby('Driver_id')['Request_id'].nunique() \n",
    "print(rideNum.max())"
   ]
  },
  {
   "cell_type": "markdown",
   "id": "76d9b596",
   "metadata": {},
   "source": [
    "## The driver with the lowest number of rides"
   ]
  },
  {
   "cell_type": "code",
   "execution_count": 61,
   "id": "03084369",
   "metadata": {},
   "outputs": [
    {
     "name": "stdout",
     "output_type": "stream",
     "text": [
      "6\n"
     ]
    }
   ],
   "source": [
    "rideNum=newData.groupby('Driver_id')['Request_id'].nunique() \n",
    "print(rideNum.min())"
   ]
  },
  {
   "cell_type": "markdown",
   "id": "9d913d02",
   "metadata": {},
   "source": [
    "## Where did most pickup occur"
   ]
  },
  {
   "cell_type": "code",
   "execution_count": 64,
   "id": "a3c89765",
   "metadata": {},
   "outputs": [
    {
     "name": "stdout",
     "output_type": "stream",
     "text": [
      "Pickuo point:\n",
      " City       3507\n",
      "Airport    3238\n",
      "Name: Pickup_point, dtype: int64\n",
      "Percantage as per drop: \n",
      " City       52.0\n",
      "Airport    48.0\n",
      "Name: Pickup_point, dtype: float64\n"
     ]
    },
    {
     "data": {
      "image/png": "[encoded data removed]",
      "text/plain": [
       "<Figure size 640x480 with 1 Axes>"
      ]
     },
     "metadata": {},
     "output_type": "display_data"
    }
   ],
   "source": [
    "print(\"Pickuo point:\\n\", newData.Pickup_point.value_counts())\n",
    "## percentage of camplete, cancelled and not not availble trips in each pick point\n",
    "print(\"Percantage as per drop: \\n\", round(newData.Pickup_point.value_counts()/newData.Pickup_point.size*100,1))\n",
    "newData.groupby(by=['Pickup_point'])['status'].value_counts(normalize=True).unstack('status').plot.bar(stacked=True);"
   ]
  },
  {
   "cell_type": "markdown",
   "id": "00e69a57",
   "metadata": {},
   "source": [
    "## Changing pickup and drop time to date format for easy analysis"
   ]
  },
  {
   "cell_type": "code",
   "execution_count": 65,
   "id": "f01f9fce",
   "metadata": {},
   "outputs": [
    {
     "data": {
      "text/html": [
       "<div>\n",
       "<style scoped>\n",
       "    .dataframe tbody tr th:only-of-type {\n",
       "        vertical-align: middle;\n",
       "    }\n",
       "\n",
       "    .dataframe tbody tr th {\n",
       "        vertical-align: top;\n",
       "    }\n",
       "\n",
       "    .dataframe thead th {\n",
       "        text-align: right;\n",
       "    }\n",
       "</style>\n",
       "<table border=\"1\" class=\"dataframe\">\n",
       "  <thead>\n",
       "    <tr style=\"text-align: right;\">\n",
       "      <th></th>\n",
       "      <th>Request_id</th>\n",
       "      <th>Pickup_point</th>\n",
       "      <th>Driver_id</th>\n",
       "      <th>status</th>\n",
       "      <th>Request_timestamp</th>\n",
       "      <th>Drop_timestamp</th>\n",
       "      <th>Request_month</th>\n",
       "      <th>Request_date</th>\n",
       "    </tr>\n",
       "  </thead>\n",
       "  <tbody>\n",
       "    <tr>\n",
       "      <th>0</th>\n",
       "      <td>619</td>\n",
       "      <td>Airport</td>\n",
       "      <td>1.0</td>\n",
       "      <td>Trip Completed</td>\n",
       "      <td>2016-11-07 11:51:00</td>\n",
       "      <td>2016-11-07 13:00:00</td>\n",
       "      <td>11</td>\n",
       "      <td>2016-11-07</td>\n",
       "    </tr>\n",
       "    <tr>\n",
       "      <th>1</th>\n",
       "      <td>867</td>\n",
       "      <td>Airport</td>\n",
       "      <td>1.0</td>\n",
       "      <td>Trip Completed</td>\n",
       "      <td>2016-11-07 17:57:00</td>\n",
       "      <td>2016-11-07 18:47:00</td>\n",
       "      <td>11</td>\n",
       "      <td>2016-11-07</td>\n",
       "    </tr>\n",
       "    <tr>\n",
       "      <th>2</th>\n",
       "      <td>1807</td>\n",
       "      <td>City</td>\n",
       "      <td>1.0</td>\n",
       "      <td>Trip Completed</td>\n",
       "      <td>2016-12-07 09:17:00</td>\n",
       "      <td>2016-12-07 09:58:00</td>\n",
       "      <td>12</td>\n",
       "      <td>2016-12-07</td>\n",
       "    </tr>\n",
       "    <tr>\n",
       "      <th>3</th>\n",
       "      <td>2532</td>\n",
       "      <td>Airport</td>\n",
       "      <td>1.0</td>\n",
       "      <td>Trip Completed</td>\n",
       "      <td>2016-12-07 21:08:00</td>\n",
       "      <td>2016-12-07 22:03:00</td>\n",
       "      <td>12</td>\n",
       "      <td>2016-12-07</td>\n",
       "    </tr>\n",
       "    <tr>\n",
       "      <th>4</th>\n",
       "      <td>3112</td>\n",
       "      <td>City</td>\n",
       "      <td>1.0</td>\n",
       "      <td>Trip Completed</td>\n",
       "      <td>2016-07-13 08:33:16</td>\n",
       "      <td>2016-07-13 09:25:47</td>\n",
       "      <td>7</td>\n",
       "      <td>2016-07-13</td>\n",
       "    </tr>\n",
       "  </tbody>\n",
       "</table>\n",
       "</div>"
      ],
      "text/plain": [
       "   Request_id Pickup_point  Driver_id          status   Request_timestamp  \\\n",
       "0         619      Airport        1.0  Trip Completed 2016-11-07 11:51:00   \n",
       "1         867      Airport        1.0  Trip Completed 2016-11-07 17:57:00   \n",
       "2        1807         City        1.0  Trip Completed 2016-12-07 09:17:00   \n",
       "3        2532      Airport        1.0  Trip Completed 2016-12-07 21:08:00   \n",
       "4        3112         City        1.0  Trip Completed 2016-07-13 08:33:16   \n",
       "\n",
       "       Drop_timestamp  Request_month Request_date  \n",
       "0 2016-11-07 13:00:00             11   2016-11-07  \n",
       "1 2016-11-07 18:47:00             11   2016-11-07  \n",
       "2 2016-12-07 09:58:00             12   2016-12-07  \n",
       "3 2016-12-07 22:03:00             12   2016-12-07  \n",
       "4 2016-07-13 09:25:47              7   2016-07-13  "
      ]
     },
     "execution_count": 65,
     "metadata": {},
     "output_type": "execute_result"
    }
   ],
   "source": [
    "newData['Request_timestamp'] = pd.to_datetime(newData['Request_timestamp'],\n",
    "                                       errors='coerce')\n",
    "newData['Drop_timestamp'] = pd.to_datetime(newData['Drop_timestamp'],\n",
    "                                     errors='coerce')\n",
    "newData.head()"
   ]
  },
  {
   "cell_type": "markdown",
   "id": "ed11a57c",
   "metadata": {},
   "source": [
    "## Splitting the Reuest time to date and time column and then converting the time into four different categories i.e. Morning, Afternoon, Evening, Night"
   ]
  },
  {
   "cell_type": "code",
   "execution_count": 71,
   "id": "2f823118",
   "metadata": {},
   "outputs": [
    {
     "data": {
      "text/html": [
       "<div>\n",
       "<style scoped>\n",
       "    .dataframe tbody tr th:only-of-type {\n",
       "        vertical-align: middle;\n",
       "    }\n",
       "\n",
       "    .dataframe tbody tr th {\n",
       "        vertical-align: top;\n",
       "    }\n",
       "\n",
       "    .dataframe thead th {\n",
       "        text-align: right;\n",
       "    }\n",
       "</style>\n",
       "<table border=\"1\" class=\"dataframe\">\n",
       "  <thead>\n",
       "    <tr style=\"text-align: right;\">\n",
       "      <th></th>\n",
       "      <th>Request_id</th>\n",
       "      <th>Pickup_point</th>\n",
       "      <th>Driver_id</th>\n",
       "      <th>status</th>\n",
       "      <th>Request_timestamp</th>\n",
       "      <th>Drop_timestamp</th>\n",
       "      <th>Request_month</th>\n",
       "      <th>Request_date</th>\n",
       "      <th>Request_time</th>\n",
       "      <th>day-night</th>\n",
       "    </tr>\n",
       "  </thead>\n",
       "  <tbody>\n",
       "    <tr>\n",
       "      <th>0</th>\n",
       "      <td>619</td>\n",
       "      <td>Airport</td>\n",
       "      <td>1.0</td>\n",
       "      <td>Trip Completed</td>\n",
       "      <td>2016-11-07 11:51:00</td>\n",
       "      <td>2016-11-07 13:00:00</td>\n",
       "      <td>11</td>\n",
       "      <td>2016-11-07</td>\n",
       "      <td>11</td>\n",
       "      <td>Afternoon</td>\n",
       "    </tr>\n",
       "    <tr>\n",
       "      <th>1</th>\n",
       "      <td>867</td>\n",
       "      <td>Airport</td>\n",
       "      <td>1.0</td>\n",
       "      <td>Trip Completed</td>\n",
       "      <td>2016-11-07 17:57:00</td>\n",
       "      <td>2016-11-07 18:47:00</td>\n",
       "      <td>11</td>\n",
       "      <td>2016-11-07</td>\n",
       "      <td>17</td>\n",
       "      <td>Evening</td>\n",
       "    </tr>\n",
       "    <tr>\n",
       "      <th>2</th>\n",
       "      <td>1807</td>\n",
       "      <td>City</td>\n",
       "      <td>1.0</td>\n",
       "      <td>Trip Completed</td>\n",
       "      <td>2016-12-07 09:17:00</td>\n",
       "      <td>2016-12-07 09:58:00</td>\n",
       "      <td>12</td>\n",
       "      <td>2016-12-07</td>\n",
       "      <td>9</td>\n",
       "      <td>Morning</td>\n",
       "    </tr>\n",
       "    <tr>\n",
       "      <th>3</th>\n",
       "      <td>2532</td>\n",
       "      <td>Airport</td>\n",
       "      <td>1.0</td>\n",
       "      <td>Trip Completed</td>\n",
       "      <td>2016-12-07 21:08:00</td>\n",
       "      <td>2016-12-07 22:03:00</td>\n",
       "      <td>12</td>\n",
       "      <td>2016-12-07</td>\n",
       "      <td>21</td>\n",
       "      <td>Night</td>\n",
       "    </tr>\n",
       "    <tr>\n",
       "      <th>4</th>\n",
       "      <td>3112</td>\n",
       "      <td>City</td>\n",
       "      <td>1.0</td>\n",
       "      <td>Trip Completed</td>\n",
       "      <td>2016-07-13 08:33:16</td>\n",
       "      <td>2016-07-13 09:25:47</td>\n",
       "      <td>7</td>\n",
       "      <td>2016-07-13</td>\n",
       "      <td>8</td>\n",
       "      <td>Morning</td>\n",
       "    </tr>\n",
       "  </tbody>\n",
       "</table>\n",
       "</div>"
      ],
      "text/plain": [
       "   Request_id Pickup_point  Driver_id          status   Request_timestamp  \\\n",
       "0         619      Airport        1.0  Trip Completed 2016-11-07 11:51:00   \n",
       "1         867      Airport        1.0  Trip Completed 2016-11-07 17:57:00   \n",
       "2        1807         City        1.0  Trip Completed 2016-12-07 09:17:00   \n",
       "3        2532      Airport        1.0  Trip Completed 2016-12-07 21:08:00   \n",
       "4        3112         City        1.0  Trip Completed 2016-07-13 08:33:16   \n",
       "\n",
       "       Drop_timestamp  Request_month Request_date  Request_time  day-night  \n",
       "0 2016-11-07 13:00:00             11   2016-11-07            11  Afternoon  \n",
       "1 2016-11-07 18:47:00             11   2016-11-07            17    Evening  \n",
       "2 2016-12-07 09:58:00             12   2016-12-07             9    Morning  \n",
       "3 2016-12-07 22:03:00             12   2016-12-07            21      Night  \n",
       "4 2016-07-13 09:25:47              7   2016-07-13             8    Morning  "
      ]
     },
     "execution_count": 71,
     "metadata": {},
     "output_type": "execute_result"
    }
   ],
   "source": [
    "from datetime import datetime\n",
    "\n",
    "newData['Request_month'] = pd.DatetimeIndex(newData['Request_timestamp']).month\n",
    "newData['Request_date'] = pd.DatetimeIndex(newData['Request_timestamp']).date\n",
    "newData['Request_time'] = pd.DatetimeIndex(newData['Request_timestamp']).hour\n",
    " \n",
    "#changing into categories of day and night\n",
    "newData['day-night'] = pd.cut(x=newData['Request_time'],\n",
    "                              bins = [0,10,15,19,24],\n",
    "                              labels = ['Morning','Afternoon','Evening','Night'])\n",
    "newData.head()\n"
   ]
  },
  {
   "cell_type": "markdown",
   "id": "dfe8d2ee",
   "metadata": {},
   "source": [
    "## counting number of null values  in request timestamp, drop timestamp and driver id"
   ]
  },
  {
   "cell_type": "code",
   "execution_count": 72,
   "id": "a2a02069",
   "metadata": {},
   "outputs": [
    {
     "name": "stdout",
     "output_type": "stream",
     "text": [
      "Number of rows containing null values in Request timestamp: 0\n",
      "Number of rows containing null values in Drop timestamp: 3914\n",
      "Number of rows containing null values in Driver id: 2650\n"
     ]
    }
   ],
   "source": [
    "Request_timestamp_count_of_null_values = newData['Request_timestamp'].isnull().sum()\n",
    "Drop_timestamp_count_of_null_values = newData['Drop_timestamp'].isnull().sum()\n",
    "Driver_id_count_of_null_values = newData['Driver_id'].isnull().sum()\n",
    "print(\"Number of rows containing null values in Request timestamp:\", Request_timestamp_count_of_null_values)\n",
    "print(\"Number of rows containing null values in Drop timestamp:\", Drop_timestamp_count_of_null_values)\n",
    "print(\"Number of rows containing null values in Driver id:\", Driver_id_count_of_null_values)"
   ]
  },
  {
   "cell_type": "markdown",
   "id": "8b983f33",
   "metadata": {},
   "source": [
    "## Grouping data by status\n",
    " "
   ]
  },
  {
   "cell_type": "code",
   "execution_count": 74,
   "id": "06d34cf5",
   "metadata": {},
   "outputs": [
    {
     "data": {
      "text/html": [
       "<div>\n",
       "<style scoped>\n",
       "    .dataframe tbody tr th:only-of-type {\n",
       "        vertical-align: middle;\n",
       "    }\n",
       "\n",
       "    .dataframe tbody tr th {\n",
       "        vertical-align: top;\n",
       "    }\n",
       "\n",
       "    .dataframe thead th {\n",
       "        text-align: right;\n",
       "    }\n",
       "</style>\n",
       "<table border=\"1\" class=\"dataframe\">\n",
       "  <thead>\n",
       "    <tr style=\"text-align: right;\">\n",
       "      <th></th>\n",
       "      <th>Request_id</th>\n",
       "      <th>Pickup_point</th>\n",
       "      <th>Driver_id</th>\n",
       "      <th>Request_timestamp</th>\n",
       "      <th>Drop_timestamp</th>\n",
       "      <th>Request_month</th>\n",
       "      <th>Request_date</th>\n",
       "      <th>Request_time</th>\n",
       "      <th>day-night</th>\n",
       "    </tr>\n",
       "    <tr>\n",
       "      <th>status</th>\n",
       "      <th></th>\n",
       "      <th></th>\n",
       "      <th></th>\n",
       "      <th></th>\n",
       "      <th></th>\n",
       "      <th></th>\n",
       "      <th></th>\n",
       "      <th></th>\n",
       "      <th></th>\n",
       "    </tr>\n",
       "  </thead>\n",
       "  <tbody>\n",
       "    <tr>\n",
       "      <th>Cancelled</th>\n",
       "      <td>1264</td>\n",
       "      <td>1264</td>\n",
       "      <td>1264</td>\n",
       "      <td>1264</td>\n",
       "      <td>0</td>\n",
       "      <td>1264</td>\n",
       "      <td>1264</td>\n",
       "      <td>1264</td>\n",
       "      <td>1261</td>\n",
       "    </tr>\n",
       "    <tr>\n",
       "      <th>No Cars Available</th>\n",
       "      <td>2650</td>\n",
       "      <td>2650</td>\n",
       "      <td>0</td>\n",
       "      <td>2650</td>\n",
       "      <td>0</td>\n",
       "      <td>2650</td>\n",
       "      <td>2650</td>\n",
       "      <td>2650</td>\n",
       "      <td>2594</td>\n",
       "    </tr>\n",
       "    <tr>\n",
       "      <th>Trip Completed</th>\n",
       "      <td>2831</td>\n",
       "      <td>2831</td>\n",
       "      <td>2831</td>\n",
       "      <td>2831</td>\n",
       "      <td>2831</td>\n",
       "      <td>2831</td>\n",
       "      <td>2831</td>\n",
       "      <td>2831</td>\n",
       "      <td>2791</td>\n",
       "    </tr>\n",
       "  </tbody>\n",
       "</table>\n",
       "</div>"
      ],
      "text/plain": [
       "                   Request_id  Pickup_point  Driver_id  Request_timestamp  \\\n",
       "status                                                                      \n",
       "Cancelled                1264          1264       1264               1264   \n",
       "No Cars Available        2650          2650          0               2650   \n",
       "Trip Completed           2831          2831       2831               2831   \n",
       "\n",
       "                   Drop_timestamp  Request_month  Request_date  Request_time  \\\n",
       "status                                                                         \n",
       "Cancelled                       0           1264          1264          1264   \n",
       "No Cars Available               0           2650          2650          2650   \n",
       "Trip Completed               2831           2831          2831          2831   \n",
       "\n",
       "                   day-night  \n",
       "status                        \n",
       "Cancelled               1261  \n",
       "No Cars Available       2594  \n",
       "Trip Completed          2791  "
      ]
     },
     "execution_count": 74,
     "metadata": {},
     "output_type": "execute_result"
    }
   ],
   "source": [
    "newData.groupby(newData.status).count()"
   ]
  },
  {
   "cell_type": "markdown",
   "id": "ab1949c8",
   "metadata": {},
   "source": [
    "## Cheking the range of dates for the data given"
   ]
  },
  {
   "cell_type": "code",
   "execution_count": 77,
   "id": "8521f839",
   "metadata": {},
   "outputs": [
    {
     "name": "stdout",
     "output_type": "stream",
     "text": [
      "Minimum Date:  2016-07-13\n",
      "Maximum Date:  2016-12-07\n"
     ]
    }
   ],
   "source": [
    "print(\"Minimum Date: \", min(newData['Request_date']))\n",
    "print(\"Maximum Date: \", max(newData['Request_date']))"
   ]
  },
  {
   "cell_type": "markdown",
   "id": "ecc41703",
   "metadata": {},
   "source": [
    "## Printing all unique dates"
   ]
  },
  {
   "cell_type": "code",
   "execution_count": 79,
   "id": "b952bfac",
   "metadata": {},
   "outputs": [
    {
     "name": "stdout",
     "output_type": "stream",
     "text": [
      "[datetime.date(2016, 11, 7) datetime.date(2016, 12, 7)\n",
      " datetime.date(2016, 7, 13) datetime.date(2016, 7, 14)\n",
      " datetime.date(2016, 7, 15)]\n"
     ]
    }
   ],
   "source": [
    "print(newData['Request_date'].unique())"
   ]
  },
  {
   "cell_type": "markdown",
   "id": "8f276b2d",
   "metadata": {},
   "source": [
    "##  grouping by driver id and status type and printing top 10 rows"
   ]
  },
  {
   "cell_type": "code",
   "execution_count": 82,
   "id": "2d03fc3c",
   "metadata": {},
   "outputs": [
    {
     "data": {
      "text/html": [
       "<div>\n",
       "<style scoped>\n",
       "    .dataframe tbody tr th:only-of-type {\n",
       "        vertical-align: middle;\n",
       "    }\n",
       "\n",
       "    .dataframe tbody tr th {\n",
       "        vertical-align: top;\n",
       "    }\n",
       "\n",
       "    .dataframe thead th {\n",
       "        text-align: right;\n",
       "    }\n",
       "</style>\n",
       "<table border=\"1\" class=\"dataframe\">\n",
       "  <thead>\n",
       "    <tr style=\"text-align: right;\">\n",
       "      <th></th>\n",
       "      <th></th>\n",
       "      <th>Request_id</th>\n",
       "      <th>Pickup_point</th>\n",
       "      <th>Request_timestamp</th>\n",
       "      <th>Drop_timestamp</th>\n",
       "      <th>Request_month</th>\n",
       "      <th>Request_date</th>\n",
       "      <th>Request_time</th>\n",
       "      <th>day-night</th>\n",
       "    </tr>\n",
       "    <tr>\n",
       "      <th>Driver_id</th>\n",
       "      <th>status</th>\n",
       "      <th></th>\n",
       "      <th></th>\n",
       "      <th></th>\n",
       "      <th></th>\n",
       "      <th></th>\n",
       "      <th></th>\n",
       "      <th></th>\n",
       "      <th></th>\n",
       "    </tr>\n",
       "  </thead>\n",
       "  <tbody>\n",
       "    <tr>\n",
       "      <th rowspan=\"2\" valign=\"top\">1.0</th>\n",
       "      <th>Cancelled</th>\n",
       "      <td>4</td>\n",
       "      <td>4</td>\n",
       "      <td>4</td>\n",
       "      <td>0</td>\n",
       "      <td>4</td>\n",
       "      <td>4</td>\n",
       "      <td>4</td>\n",
       "      <td>4</td>\n",
       "    </tr>\n",
       "    <tr>\n",
       "      <th>Trip Completed</th>\n",
       "      <td>9</td>\n",
       "      <td>9</td>\n",
       "      <td>9</td>\n",
       "      <td>9</td>\n",
       "      <td>9</td>\n",
       "      <td>9</td>\n",
       "      <td>9</td>\n",
       "      <td>9</td>\n",
       "    </tr>\n",
       "    <tr>\n",
       "      <th rowspan=\"2\" valign=\"top\">2.0</th>\n",
       "      <th>Cancelled</th>\n",
       "      <td>4</td>\n",
       "      <td>4</td>\n",
       "      <td>4</td>\n",
       "      <td>0</td>\n",
       "      <td>4</td>\n",
       "      <td>4</td>\n",
       "      <td>4</td>\n",
       "      <td>4</td>\n",
       "    </tr>\n",
       "    <tr>\n",
       "      <th>Trip Completed</th>\n",
       "      <td>9</td>\n",
       "      <td>9</td>\n",
       "      <td>9</td>\n",
       "      <td>9</td>\n",
       "      <td>9</td>\n",
       "      <td>9</td>\n",
       "      <td>9</td>\n",
       "      <td>9</td>\n",
       "    </tr>\n",
       "    <tr>\n",
       "      <th rowspan=\"2\" valign=\"top\">3.0</th>\n",
       "      <th>Cancelled</th>\n",
       "      <td>4</td>\n",
       "      <td>4</td>\n",
       "      <td>4</td>\n",
       "      <td>0</td>\n",
       "      <td>4</td>\n",
       "      <td>4</td>\n",
       "      <td>4</td>\n",
       "      <td>4</td>\n",
       "    </tr>\n",
       "    <tr>\n",
       "      <th>Trip Completed</th>\n",
       "      <td>10</td>\n",
       "      <td>10</td>\n",
       "      <td>10</td>\n",
       "      <td>10</td>\n",
       "      <td>10</td>\n",
       "      <td>10</td>\n",
       "      <td>10</td>\n",
       "      <td>10</td>\n",
       "    </tr>\n",
       "    <tr>\n",
       "      <th rowspan=\"2\" valign=\"top\">4.0</th>\n",
       "      <th>Cancelled</th>\n",
       "      <td>5</td>\n",
       "      <td>5</td>\n",
       "      <td>5</td>\n",
       "      <td>0</td>\n",
       "      <td>5</td>\n",
       "      <td>5</td>\n",
       "      <td>5</td>\n",
       "      <td>5</td>\n",
       "    </tr>\n",
       "    <tr>\n",
       "      <th>Trip Completed</th>\n",
       "      <td>10</td>\n",
       "      <td>10</td>\n",
       "      <td>10</td>\n",
       "      <td>10</td>\n",
       "      <td>10</td>\n",
       "      <td>10</td>\n",
       "      <td>10</td>\n",
       "      <td>10</td>\n",
       "    </tr>\n",
       "    <tr>\n",
       "      <th rowspan=\"2\" valign=\"top\">5.0</th>\n",
       "      <th>Cancelled</th>\n",
       "      <td>2</td>\n",
       "      <td>2</td>\n",
       "      <td>2</td>\n",
       "      <td>0</td>\n",
       "      <td>2</td>\n",
       "      <td>2</td>\n",
       "      <td>2</td>\n",
       "      <td>2</td>\n",
       "    </tr>\n",
       "    <tr>\n",
       "      <th>Trip Completed</th>\n",
       "      <td>11</td>\n",
       "      <td>11</td>\n",
       "      <td>11</td>\n",
       "      <td>11</td>\n",
       "      <td>11</td>\n",
       "      <td>11</td>\n",
       "      <td>11</td>\n",
       "      <td>11</td>\n",
       "    </tr>\n",
       "  </tbody>\n",
       "</table>\n",
       "</div>"
      ],
      "text/plain": [
       "                          Request_id  Pickup_point  Request_timestamp  \\\n",
       "Driver_id status                                                        \n",
       "1.0       Cancelled                4             4                  4   \n",
       "          Trip Completed           9             9                  9   \n",
       "2.0       Cancelled                4             4                  4   \n",
       "          Trip Completed           9             9                  9   \n",
       "3.0       Cancelled                4             4                  4   \n",
       "          Trip Completed          10            10                 10   \n",
       "4.0       Cancelled                5             5                  5   \n",
       "          Trip Completed          10            10                 10   \n",
       "5.0       Cancelled                2             2                  2   \n",
       "          Trip Completed          11            11                 11   \n",
       "\n",
       "                          Drop_timestamp  Request_month  Request_date  \\\n",
       "Driver_id status                                                        \n",
       "1.0       Cancelled                    0              4             4   \n",
       "          Trip Completed               9              9             9   \n",
       "2.0       Cancelled                    0              4             4   \n",
       "          Trip Completed               9              9             9   \n",
       "3.0       Cancelled                    0              4             4   \n",
       "          Trip Completed              10             10            10   \n",
       "4.0       Cancelled                    0              5             5   \n",
       "          Trip Completed              10             10            10   \n",
       "5.0       Cancelled                    0              2             2   \n",
       "          Trip Completed              11             11            11   \n",
       "\n",
       "                          Request_time  day-night  \n",
       "Driver_id status                                   \n",
       "1.0       Cancelled                  4          4  \n",
       "          Trip Completed             9          9  \n",
       "2.0       Cancelled                  4          4  \n",
       "          Trip Completed             9          9  \n",
       "3.0       Cancelled                  4          4  \n",
       "          Trip Completed            10         10  \n",
       "4.0       Cancelled                  5          5  \n",
       "          Trip Completed            10         10  \n",
       "5.0       Cancelled                  2          2  \n",
       "          Trip Completed            11         11  "
      ]
     },
     "execution_count": 82,
     "metadata": {},
     "output_type": "execute_result"
    }
   ],
   "source": [
    "newData_groupby_status_and_driverId = newData.groupby([\"Driver_id\",\"status\"]).count()\n",
    "newData_groupby_status_and_driverId.head(10)"
   ]
  },
  {
   "cell_type": "markdown",
   "id": "9559ae64",
   "metadata": {},
   "source": [
    "## filtering the dataframe for which trip is either cancelled or no cab was available"
   ]
  },
  {
   "cell_type": "code",
   "execution_count": 85,
   "id": "da92e045",
   "metadata": {},
   "outputs": [
    {
     "data": {
      "text/html": [
       "<div>\n",
       "<style scoped>\n",
       "    .dataframe tbody tr th:only-of-type {\n",
       "        vertical-align: middle;\n",
       "    }\n",
       "\n",
       "    .dataframe tbody tr th {\n",
       "        vertical-align: top;\n",
       "    }\n",
       "\n",
       "    .dataframe thead th {\n",
       "        text-align: right;\n",
       "    }\n",
       "</style>\n",
       "<table border=\"1\" class=\"dataframe\">\n",
       "  <thead>\n",
       "    <tr style=\"text-align: right;\">\n",
       "      <th></th>\n",
       "      <th>Request_id</th>\n",
       "      <th>Pickup_point</th>\n",
       "      <th>Driver_id</th>\n",
       "      <th>status</th>\n",
       "      <th>Request_timestamp</th>\n",
       "      <th>Drop_timestamp</th>\n",
       "      <th>Request_month</th>\n",
       "      <th>Request_date</th>\n",
       "      <th>Request_time</th>\n",
       "      <th>day-night</th>\n",
       "    </tr>\n",
       "  </thead>\n",
       "  <tbody>\n",
       "    <tr>\n",
       "      <th>2831</th>\n",
       "      <td>2905</td>\n",
       "      <td>City</td>\n",
       "      <td>1.0</td>\n",
       "      <td>Cancelled</td>\n",
       "      <td>2016-07-13 06:08:41</td>\n",
       "      <td>NaT</td>\n",
       "      <td>7</td>\n",
       "      <td>2016-07-13</td>\n",
       "      <td>6</td>\n",
       "      <td>Morning</td>\n",
       "    </tr>\n",
       "    <tr>\n",
       "      <th>2832</th>\n",
       "      <td>4805</td>\n",
       "      <td>City</td>\n",
       "      <td>1.0</td>\n",
       "      <td>Cancelled</td>\n",
       "      <td>2016-07-14 17:07:58</td>\n",
       "      <td>NaT</td>\n",
       "      <td>7</td>\n",
       "      <td>2016-07-14</td>\n",
       "      <td>17</td>\n",
       "      <td>Evening</td>\n",
       "    </tr>\n",
       "    <tr>\n",
       "      <th>2833</th>\n",
       "      <td>5202</td>\n",
       "      <td>Airport</td>\n",
       "      <td>1.0</td>\n",
       "      <td>Cancelled</td>\n",
       "      <td>2016-07-14 20:51:37</td>\n",
       "      <td>NaT</td>\n",
       "      <td>7</td>\n",
       "      <td>2016-07-14</td>\n",
       "      <td>20</td>\n",
       "      <td>Night</td>\n",
       "    </tr>\n",
       "    <tr>\n",
       "      <th>2834</th>\n",
       "      <td>5927</td>\n",
       "      <td>City</td>\n",
       "      <td>1.0</td>\n",
       "      <td>Cancelled</td>\n",
       "      <td>2016-07-15 10:12:40</td>\n",
       "      <td>NaT</td>\n",
       "      <td>7</td>\n",
       "      <td>2016-07-15</td>\n",
       "      <td>10</td>\n",
       "      <td>Morning</td>\n",
       "    </tr>\n",
       "    <tr>\n",
       "      <th>2835</th>\n",
       "      <td>2347</td>\n",
       "      <td>Airport</td>\n",
       "      <td>2.0</td>\n",
       "      <td>Cancelled</td>\n",
       "      <td>2016-12-07 19:14:00</td>\n",
       "      <td>NaT</td>\n",
       "      <td>12</td>\n",
       "      <td>2016-12-07</td>\n",
       "      <td>19</td>\n",
       "      <td>Evening</td>\n",
       "    </tr>\n",
       "  </tbody>\n",
       "</table>\n",
       "</div>"
      ],
      "text/plain": [
       "      Request_id Pickup_point  Driver_id     status   Request_timestamp  \\\n",
       "2831        2905         City        1.0  Cancelled 2016-07-13 06:08:41   \n",
       "2832        4805         City        1.0  Cancelled 2016-07-14 17:07:58   \n",
       "2833        5202      Airport        1.0  Cancelled 2016-07-14 20:51:37   \n",
       "2834        5927         City        1.0  Cancelled 2016-07-15 10:12:40   \n",
       "2835        2347      Airport        2.0  Cancelled 2016-12-07 19:14:00   \n",
       "\n",
       "     Drop_timestamp  Request_month Request_date  Request_time day-night  \n",
       "2831            NaT              7   2016-07-13             6   Morning  \n",
       "2832            NaT              7   2016-07-14            17   Evening  \n",
       "2833            NaT              7   2016-07-14            20     Night  \n",
       "2834            NaT              7   2016-07-15            10   Morning  \n",
       "2835            NaT             12   2016-12-07            19   Evening  "
      ]
     },
     "execution_count": 85,
     "metadata": {},
     "output_type": "execute_result"
    }
   ],
   "source": [
    "newdata_with_null_drop_timestamp = newData[newData[\"Drop_timestamp\"].isnull()]\n",
    "newdata_with_null_drop_timestamp.head()"
   ]
  },
  {
   "cell_type": "markdown",
   "id": "d2c408b7",
   "metadata": {},
   "source": [
    "## Percentage of completed , cancelled and not available trips"
   ]
  },
  {
   "cell_type": "code",
   "execution_count": 16,
   "id": "02437b4a",
   "metadata": {},
   "outputs": [
    {
     "name": "stdout",
     "output_type": "stream",
     "text": [
      "Total trips:  6745\n",
      "Trip Completed       42.0\n",
      "No Cars Available    39.3\n",
      "Cancelled            18.7\n",
      "Name: Status, dtype: float64\n"
     ]
    },
    {
     "data": {
      "image/png": "[encoded data removed]",
      "text/plain": [
       "<Figure size 640x480 with 1 Axes>"
      ]
     },
     "metadata": {},
     "output_type": "display_data"
    }
   ],
   "source": [
    "print('Total trips: ', newData.Status.count())\n",
    "print(round(newData.Status.value_counts()/newData.Status.size*100,1))\n",
    "\n",
    "newData.groupby(by=['month'])['Status'].value_counts(normalize=True).unstack('Status').plot.bar(stacked=True);\n"
   ]
  },
  {
   "cell_type": "markdown",
   "id": "0965c2c8",
   "metadata": {},
   "source": [
    "## Time taken by each ride\n"
   ]
  },
  {
   "cell_type": "code",
   "execution_count": 84,
   "id": "6de32cec",
   "metadata": {},
   "outputs": [
    {
     "data": {
      "text/html": [
       "<div>\n",
       "<style scoped>\n",
       "    .dataframe tbody tr th:only-of-type {\n",
       "        vertical-align: middle;\n",
       "    }\n",
       "\n",
       "    .dataframe tbody tr th {\n",
       "        vertical-align: top;\n",
       "    }\n",
       "\n",
       "    .dataframe thead th {\n",
       "        text-align: right;\n",
       "    }\n",
       "</style>\n",
       "<table border=\"1\" class=\"dataframe\">\n",
       "  <thead>\n",
       "    <tr style=\"text-align: right;\">\n",
       "      <th></th>\n",
       "      <th>Request_id</th>\n",
       "      <th>Pickup_point</th>\n",
       "      <th>Driver_id</th>\n",
       "      <th>Status</th>\n",
       "      <th>Request_timestamp</th>\n",
       "      <th>Drop_timestamp</th>\n",
       "      <th>month</th>\n",
       "      <th>date</th>\n",
       "      <th>time</th>\n",
       "      <th>day-night</th>\n",
       "      <th>Time-diff</th>\n",
       "    </tr>\n",
       "  </thead>\n",
       "  <tbody>\n",
       "    <tr>\n",
       "      <th>0</th>\n",
       "      <td>619</td>\n",
       "      <td>Airport</td>\n",
       "      <td>1.0</td>\n",
       "      <td>Trip Completed</td>\n",
       "      <td>2016-11-07 11:51:00</td>\n",
       "      <td>2016-11-07 13:00:00</td>\n",
       "      <td>11</td>\n",
       "      <td>2016-11-07</td>\n",
       "      <td>11</td>\n",
       "      <td>Afternoon</td>\n",
       "      <td>69.0</td>\n",
       "    </tr>\n",
       "    <tr>\n",
       "      <th>1</th>\n",
       "      <td>867</td>\n",
       "      <td>Airport</td>\n",
       "      <td>1.0</td>\n",
       "      <td>Trip Completed</td>\n",
       "      <td>2016-11-07 17:57:00</td>\n",
       "      <td>2016-11-07 18:47:00</td>\n",
       "      <td>11</td>\n",
       "      <td>2016-11-07</td>\n",
       "      <td>17</td>\n",
       "      <td>Evening</td>\n",
       "      <td>50.0</td>\n",
       "    </tr>\n",
       "    <tr>\n",
       "      <th>2</th>\n",
       "      <td>1807</td>\n",
       "      <td>City</td>\n",
       "      <td>1.0</td>\n",
       "      <td>Trip Completed</td>\n",
       "      <td>2016-12-07 09:17:00</td>\n",
       "      <td>2016-12-07 09:58:00</td>\n",
       "      <td>12</td>\n",
       "      <td>2016-12-07</td>\n",
       "      <td>9</td>\n",
       "      <td>Morning</td>\n",
       "      <td>41.0</td>\n",
       "    </tr>\n",
       "    <tr>\n",
       "      <th>3</th>\n",
       "      <td>2532</td>\n",
       "      <td>Airport</td>\n",
       "      <td>1.0</td>\n",
       "      <td>Trip Completed</td>\n",
       "      <td>2016-12-07 21:08:00</td>\n",
       "      <td>2016-12-07 22:03:00</td>\n",
       "      <td>12</td>\n",
       "      <td>2016-12-07</td>\n",
       "      <td>21</td>\n",
       "      <td>Night</td>\n",
       "      <td>55.0</td>\n",
       "    </tr>\n",
       "    <tr>\n",
       "      <th>4</th>\n",
       "      <td>3112</td>\n",
       "      <td>City</td>\n",
       "      <td>1.0</td>\n",
       "      <td>Trip Completed</td>\n",
       "      <td>2016-07-13 08:33:16</td>\n",
       "      <td>2016-07-13 09:25:47</td>\n",
       "      <td>7</td>\n",
       "      <td>2016-07-13</td>\n",
       "      <td>8</td>\n",
       "      <td>Morning</td>\n",
       "      <td>52.5</td>\n",
       "    </tr>\n",
       "  </tbody>\n",
       "</table>\n",
       "</div>"
      ],
      "text/plain": [
       "   Request_id Pickup_point  Driver_id          Status   Request_timestamp  \\\n",
       "0         619      Airport        1.0  Trip Completed 2016-11-07 11:51:00   \n",
       "1         867      Airport        1.0  Trip Completed 2016-11-07 17:57:00   \n",
       "2        1807         City        1.0  Trip Completed 2016-12-07 09:17:00   \n",
       "3        2532      Airport        1.0  Trip Completed 2016-12-07 21:08:00   \n",
       "4        3112         City        1.0  Trip Completed 2016-07-13 08:33:16   \n",
       "\n",
       "       Drop_timestamp  month        date  time  day-night  Time-diff  \n",
       "0 2016-11-07 13:00:00     11  2016-11-07    11  Afternoon       69.0  \n",
       "1 2016-11-07 18:47:00     11  2016-11-07    17    Evening       50.0  \n",
       "2 2016-12-07 09:58:00     12  2016-12-07     9    Morning       41.0  \n",
       "3 2016-12-07 22:03:00     12  2016-12-07    21      Night       55.0  \n",
       "4 2016-07-13 09:25:47      7  2016-07-13     8    Morning       52.5  "
      ]
     },
     "execution_count": 84,
     "metadata": {},
     "output_type": "execute_result"
    }
   ],
   "source": [
    "newData['Time-diff']=newData['Drop_timestamp'] -newData['Request_timestamp']\n",
    "newData['Time-diff']=newData['Time-diff'].apply(lambda x: round(x.total_seconds()/60,1))\n",
    "newData.head()"
   ]
  },
  {
   "cell_type": "markdown",
   "id": "1ecc4479",
   "metadata": {},
   "source": [
    "## Which weekdays had the highest rides?"
   ]
  },
  {
   "cell_type": "code",
   "execution_count": 17,
   "id": "b574afeb",
   "metadata": {},
   "outputs": [
    {
     "name": "stderr",
     "output_type": "stream",
     "text": [
      "C:\\Users\\mr bones\\anaconda3\\lib\\site-packages\\seaborn\\_decorators.py:36: FutureWarning: Pass the following variable as a keyword arg: x. From version 0.12, the only valid positional argument will be `data`, and passing other arguments without an explicit keyword will result in an error or misinterpretation.\n",
      "  warnings.warn(\n"
     ]
    },
    {
     "data": {
      "text/plain": [
       "(array([0, 1, 2, 3]),\n",
       " [Text(0, 0, 'Morning'),\n",
       "  Text(1, 0, 'Afternoon'),\n",
       "  Text(2, 0, 'Evening'),\n",
       "  Text(3, 0, 'Night')])"
      ]
     },
     "execution_count": 17,
     "metadata": {},
     "output_type": "execute_result"
    },
    {
     "data": {
      "image/png": "[encoded data removed]",
      "text/plain": [
       "<Figure size 640x480 with 1 Axes>"
      ]
     },
     "metadata": {},
     "output_type": "display_data"
    }
   ],
   "source": [
    "sns.countplot(newData['day-night'])\n",
    "plt.xticks(rotation=90)"
   ]
  },
  {
   "cell_type": "markdown",
   "id": "34ce88de",
   "metadata": {},
   "source": [
    "## Which pickup point has the highest rides in a weekday"
   ]
  },
  {
   "cell_type": "code",
   "execution_count": 18,
   "id": "040e8d88",
   "metadata": {},
   "outputs": [
    {
     "data": {
      "image/png": "[encoded data removed]",
      "text/plain": [
       "<Figure size 1500x500 with 1 Axes>"
      ]
     },
     "metadata": {},
     "output_type": "display_data"
    }
   ],
   "source": [
    "plt.figure(figsize=(15, 5))\n",
    "sns.countplot(data=newData, x='day-night', hue='Pickup_point')\n",
    "plt.xticks(rotation=90)\n",
    "plt.show()"
   ]
  },
  {
   "cell_type": "markdown",
   "id": "43286a89",
   "metadata": {},
   "source": [
    "## checking the relation of trip status and the pickup point"
   ]
  },
  {
   "cell_type": "code",
   "execution_count": 19,
   "id": "5f671dd6",
   "metadata": {},
   "outputs": [
    {
     "name": "stderr",
     "output_type": "stream",
     "text": [
      "C:\\Users\\mr bones\\anaconda3\\lib\\site-packages\\sklearn\\utils\\deprecation.py:87: FutureWarning: Function get_feature_names is deprecated; get_feature_names is deprecated in 1.0 and will be removed in 1.2. Please use get_feature_names_out instead.\n",
      "  warnings.warn(msg, category=FutureWarning)\n"
     ]
    }
   ],
   "source": [
    "from sklearn.preprocessing import OneHotEncoder\n",
    "object_cols = ['Status', 'Pickup_point']\n",
    "OH_encoder = OneHotEncoder(sparse=False)\n",
    "OH_cols = pd.DataFrame(OH_encoder.fit_transform(newData[object_cols]))\n",
    "OH_cols.index = newData.index\n",
    "OH_cols.columns = OH_encoder.get_feature_names()\n",
    "df_final = newData.drop(object_cols, axis=1)\n",
    "newData = pd.concat([df_final, OH_cols], axis=1)"
   ]
  },
  {
   "cell_type": "code",
   "execution_count": 20,
   "id": "821610ff",
   "metadata": {},
   "outputs": [
    {
     "data": {
      "text/plain": [
       "<AxesSubplot:>"
      ]
     },
     "execution_count": 20,
     "metadata": {},
     "output_type": "execute_result"
    },
    {
     "data": {
      "image/png": "[encoded data removed]",
      "text/plain": [
       "<Figure size 1200x600 with 2 Axes>"
      ]
     },
     "metadata": {},
     "output_type": "display_data"
    }
   ],
   "source": [
    "plt.figure(figsize=(12, 6))\n",
    "sns.heatmap(newData.corr(),\n",
    "            cmap='BrBG',\n",
    "            fmt='.2f',\n",
    "            linewidths=2,\n",
    "            annot=True)"
   ]
  },
  {
   "cell_type": "markdown",
   "id": "018ae9ce",
   "metadata": {},
   "source": [
    "## Supply graph"
   ]
  },
  {
   "cell_type": "code",
   "execution_count": 1,
   "id": "c9953d6c",
   "metadata": {},
   "outputs": [
    {
     "ename": "NameError",
     "evalue": "name 'plt' is not defined",
     "output_type": "error",
     "traceback": [
      "\u001b[1;31m---------------------------------------------------------------------------\u001b[0m",
      "\u001b[1;31mNameError\u001b[0m                                 Traceback (most recent call last)",
      "\u001b[1;32m~\\AppData\\Local\\Temp\\ipykernel_11516\\3433403747.py\u001b[0m in \u001b[0;36m<module>\u001b[1;34m\u001b[0m\n\u001b[0;32m      1\u001b[0m \u001b[1;31m#plot data to show demand supply gap\u001b[0m\u001b[1;33m\u001b[0m\u001b[1;33m\u001b[0m\u001b[0m\n\u001b[1;32m----> 2\u001b[1;33m \u001b[0mfig\u001b[0m\u001b[1;33m,\u001b[0m \u001b[0max\u001b[0m \u001b[1;33m=\u001b[0m \u001b[0mplt\u001b[0m\u001b[1;33m.\u001b[0m\u001b[0msubplots\u001b[0m\u001b[1;33m(\u001b[0m\u001b[0mfigsize\u001b[0m\u001b[1;33m=\u001b[0m\u001b[1;33m(\u001b[0m\u001b[1;36m15\u001b[0m\u001b[1;33m,\u001b[0m\u001b[1;36m7\u001b[0m\u001b[1;33m)\u001b[0m\u001b[1;33m)\u001b[0m\u001b[1;33m\u001b[0m\u001b[1;33m\u001b[0m\u001b[0m\n\u001b[0m\u001b[0;32m      3\u001b[0m \u001b[0mplt\u001b[0m\u001b[1;33m.\u001b[0m\u001b[0mxticks\u001b[0m\u001b[1;33m(\u001b[0m\u001b[1;33m[\u001b[0m\u001b[0mi\u001b[0m \u001b[1;32mfor\u001b[0m \u001b[0mi\u001b[0m \u001b[1;32min\u001b[0m \u001b[0mrange\u001b[0m\u001b[1;33m(\u001b[0m\u001b[1;36m0\u001b[0m\u001b[1;33m,\u001b[0m\u001b[1;36m24\u001b[0m\u001b[1;33m)\u001b[0m\u001b[1;33m]\u001b[0m\u001b[1;33m)\u001b[0m\u001b[1;33m\u001b[0m\u001b[1;33m\u001b[0m\u001b[0m\n\u001b[0;32m      4\u001b[0m \u001b[0mnewData\u001b[0m\u001b[1;33m.\u001b[0m\u001b[0mgroupby\u001b[0m\u001b[1;33m(\u001b[0m\u001b[0mnewData\u001b[0m\u001b[1;33m[\u001b[0m\u001b[1;34m'Request Hour'\u001b[0m\u001b[1;33m]\u001b[0m\u001b[1;33m)\u001b[0m\u001b[1;33m.\u001b[0m\u001b[0mcount\u001b[0m\u001b[1;33m(\u001b[0m\u001b[1;33m)\u001b[0m\u001b[1;33m[\u001b[0m\u001b[1;34m'Request id'\u001b[0m\u001b[1;33m]\u001b[0m\u001b[1;33m.\u001b[0m\u001b[0mplot\u001b[0m\u001b[1;33m(\u001b[0m\u001b[0max\u001b[0m\u001b[1;33m=\u001b[0m\u001b[0max\u001b[0m\u001b[1;33m,\u001b[0m \u001b[0mlabel\u001b[0m\u001b[1;33m=\u001b[0m\u001b[1;34m'Demand'\u001b[0m\u001b[1;33m)\u001b[0m\u001b[1;33m\u001b[0m\u001b[1;33m\u001b[0m\u001b[0m\n\u001b[0;32m      5\u001b[0m \u001b[0mnewData\u001b[0m\u001b[1;33m[\u001b[0m\u001b[0mnewData\u001b[0m\u001b[1;33m[\u001b[0m\u001b[1;34m'Status'\u001b[0m\u001b[1;33m]\u001b[0m\u001b[1;33m==\u001b[0m\u001b[1;34m\"Trip Completed\"\u001b[0m\u001b[1;33m]\u001b[0m\u001b[1;33m.\u001b[0m\u001b[0mgroupby\u001b[0m\u001b[1;33m(\u001b[0m\u001b[0mnewData\u001b[0m\u001b[1;33m[\u001b[0m\u001b[0mnewData\u001b[0m\u001b[1;33m[\u001b[0m\u001b[1;34m'Status'\u001b[0m\u001b[1;33m]\u001b[0m\u001b[1;33m==\u001b[0m\u001b[1;34m\"Trip Completed\"\u001b[0m\u001b[1;33m]\u001b[0m\u001b[1;33m[\u001b[0m\u001b[1;34m'Request Hour'\u001b[0m\u001b[1;33m]\u001b[0m\u001b[1;33m)\u001b[0m\u001b[1;33m.\u001b[0m\u001b[0mcount\u001b[0m\u001b[1;33m(\u001b[0m\u001b[1;33m)\u001b[0m\u001b[1;33m[\u001b[0m\u001b[1;34m'Request id'\u001b[0m\u001b[1;33m]\u001b[0m\u001b[1;33m.\u001b[0m\u001b[0mplot\u001b[0m\u001b[1;33m(\u001b[0m\u001b[0max\u001b[0m\u001b[1;33m=\u001b[0m\u001b[0max\u001b[0m\u001b[1;33m,\u001b[0m \u001b[0mlabel\u001b[0m\u001b[1;33m=\u001b[0m\u001b[1;34m'Supply'\u001b[0m\u001b[1;33m)\u001b[0m\u001b[1;33m\u001b[0m\u001b[1;33m\u001b[0m\u001b[0m\n",
      "\u001b[1;31mNameError\u001b[0m: name 'plt' is not defined"
     ]
    }
   ],
   "source": [
    "#plot data to show demand supply gap\n",
    "fig, ax = plt.subplots(figsize=(15,7))\n",
    "plt.xticks([i for i in range(0,24)])\n",
    "newData.groupby(newData['Request Hour']).count()['Request id'].plot(ax=ax, label='Demand')\n",
    "newData[newData['Status']==\"Trip Completed\"].groupby(newData[newData['Status']==\"Trip Completed\"]['Request Hour']).count()['Request id'].plot(ax=ax, label='Supply')\n",
    "(newData.groupby(newData['Request Hour']).count()['Request id'] - newData[newData['Status']==\"Trip Completed\"].groupby(newData[newData['Status']==\"Trip Completed\"]['Request Hour']).count()['Request id']).plot(ax=ax, label='Gap', c='red')\n",
    "plt.grid(\"on\")\n",
    "plt.title(\"Demand Supply Gap\")\n",
    "plt.legend()"
   ]
  },
  {
   "cell_type": "code",
   "execution_count": null,
   "id": "8da3df07",
   "metadata": {},
   "outputs": [],
   "source": []
  }
 ],
 "metadata": {
  "kernelspec": {
   "display_name": "Python 3 (ipykernel)",
   "language": "python",
   "name": "python3"
  },
  "language_info": {
   "codemirror_mode": {
    "name": "ipython",
    "version": 3
   },
   "file_extension": ".py",
   "mimetype": "text/x-python",
   "name": "python",
   "nbconvert_exporter": "python",
   "pygments_lexer": "ipython3",
   "version": "3.9.13"
  }
 },
 "nbformat": 4,
 "nbformat_minor": 5
}
