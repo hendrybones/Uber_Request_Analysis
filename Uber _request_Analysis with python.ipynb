{
 "cells": [
  {
   "cell_type": "markdown",
   "id": "8cff6e38",
   "metadata": {},
   "source": [
    "## Demand and Supply analysis for uber"
   ]
  },
  {
   "cell_type": "code",
   "execution_count": 3,
   "id": "3975dfe4",
   "metadata": {},
   "outputs": [
    {
     "name": "stdout",
     "output_type": "stream",
     "text": [
      "   Request id Pickup point  Driver id          Status    Request timestamp  \\\n",
      "0         619      Airport        1.0  Trip Completed      11/7/2016 11:51   \n",
      "1         867      Airport        1.0  Trip Completed      11/7/2016 17:57   \n",
      "2        1807         City        1.0  Trip Completed       12/7/2016 9:17   \n",
      "3        2532      Airport        1.0  Trip Completed      12/7/2016 21:08   \n",
      "4        3112         City        1.0  Trip Completed  13-07-2016 08:33:16   \n",
      "\n",
      "        Drop timestamp  \n",
      "0      11/7/2016 13:00  \n",
      "1      11/7/2016 18:47  \n",
      "2       12/7/2016 9:58  \n",
      "3      12/7/2016 22:03  \n",
      "4  13-07-2016 09:25:47  \n"
     ]
    }
   ],
   "source": [
    "import pandas as pd\n",
    "import plotly.express as px\n",
    "import plotly.graph_objects as go\n",
    "import plotly.io as pio\n",
    "pio.templates.default = \"plotly_white\"\n",
    "\n",
    "data = pd.read_csv('Uber Request Data.csv')\n",
    "print(data.head())"
   ]
  },
  {
   "cell_type": "markdown",
   "id": "8d98e7da",
   "metadata": {},
   "source": [
    "## Cheking null values in our data set"
   ]
  },
  {
   "cell_type": "code",
   "execution_count": 4,
   "id": "b921cec4",
   "metadata": {},
   "outputs": [
    {
     "name": "stdout",
     "output_type": "stream",
     "text": [
      "Request id              0\n",
      "Pickup point            0\n",
      "Driver id            2650\n",
      "Status                  0\n",
      "Request timestamp       0\n",
      "Drop timestamp       3914\n",
      "dtype: int64\n"
     ]
    }
   ],
   "source": [
    "print(data.isnull().sum())"
   ]
  },
  {
   "cell_type": "markdown",
   "id": "eba1f917",
   "metadata": {},
   "source": [
    "## cheking number of our records"
   ]
  },
  {
   "cell_type": "code",
   "execution_count": 13,
   "id": "ca08b69c",
   "metadata": {},
   "outputs": [
    {
     "name": "stdout",
     "output_type": "stream",
     "text": [
      "6745\n",
      "6\n"
     ]
    }
   ],
   "source": [
    "rows=data.shape[0]\n",
    "columns=data.shape[1]\n",
    "print(rows)\n",
    "print(columns)\n",
    "\n"
   ]
  },
  {
   "cell_type": "markdown",
   "id": "5008e11f",
   "metadata": {},
   "source": [
    "## Cheking basic information about our data set"
   ]
  },
  {
   "cell_type": "code",
   "execution_count": 14,
   "id": "1814cad3",
   "metadata": {},
   "outputs": [
    {
     "name": "stdout",
     "output_type": "stream",
     "text": [
      "<class 'pandas.core.frame.DataFrame'>\n",
      "RangeIndex: 6745 entries, 0 to 6744\n",
      "Data columns (total 6 columns):\n",
      " #   Column             Non-Null Count  Dtype  \n",
      "---  ------             --------------  -----  \n",
      " 0   Request id         6745 non-null   int64  \n",
      " 1   Pickup point       6745 non-null   object \n",
      " 2   Driver id          4095 non-null   float64\n",
      " 3   Status             6745 non-null   object \n",
      " 4   Request timestamp  6745 non-null   object \n",
      " 5   Drop timestamp     2831 non-null   object \n",
      "dtypes: float64(1), int64(1), object(4)\n",
      "memory usage: 316.3+ KB\n"
     ]
    }
   ],
   "source": [
    "data.info()"
   ]
  },
  {
   "cell_type": "markdown",
   "id": "ee70b601",
   "metadata": {},
   "source": [
    "## How many trips were completed and cancelled"
   ]
  },
  {
   "cell_type": "code",
   "execution_count": 16,
   "id": "8fdd9bfe",
   "metadata": {},
   "outputs": [
    {
     "data": {
      "text/plain": [
       "Trip Completed       2831\n",
       "No Cars Available    2650\n",
       "Cancelled            1264\n",
       "Name: Status, dtype: int64"
      ]
     },
     "execution_count": 16,
     "metadata": {},
     "output_type": "execute_result"
    }
   ],
   "source": [
    "data.Status.value_counts()"
   ]
  },
  {
   "cell_type": "markdown",
   "id": "101c0cec",
   "metadata": {},
   "source": [
    "## What are the avearage rides made by each driver"
   ]
  },
  {
   "cell_type": "code",
   "execution_count": 29,
   "id": "844ea9ba",
   "metadata": {},
   "outputs": [
    {
     "data": {
      "text/plain": [
       "27.0     22\n",
       "176.0    21\n",
       "177.0    21\n",
       "84.0     21\n",
       "22.0     21\n",
       "         ..\n",
       "208.0     8\n",
       "123.0     7\n",
       "42.0      7\n",
       "265.0     6\n",
       "300.0     6\n",
       "Name: Driver_id, Length: 300, dtype: int64"
      ]
     },
     "execution_count": 29,
     "metadata": {},
     "output_type": "execute_result"
    }
   ],
   "source": [
    "## first we rename columns in the data set\n",
    "newData=data.rename(columns={'Request id': 'Request_id', 'Driver id': 'Driver_id'})\n",
    "## newData.head()\n",
    "newData.Driver_id.value_counts()\n"
   ]
  },
  {
   "cell_type": "markdown",
   "id": "9c11af05",
   "metadata": {},
   "source": [
    "## How many drivers do we have in our data set"
   ]
  },
  {
   "cell_type": "code",
   "execution_count": null,
   "id": "48ca8931",
   "metadata": {},
   "outputs": [],
   "source": []
  },
  {
   "cell_type": "code",
   "execution_count": null,
   "id": "d7a41d6d",
   "metadata": {},
   "outputs": [],
   "source": []
  }
 ],
 "metadata": {
  "kernelspec": {
   "display_name": "Python 3 (ipykernel)",
   "language": "python",
   "name": "python3"
  },
  "language_info": {
   "codemirror_mode": {
    "name": "ipython",
    "version": 3
   },
   "file_extension": ".py",
   "mimetype": "text/x-python",
   "name": "python",
   "nbconvert_exporter": "python",
   "pygments_lexer": "ipython3",
   "version": "3.9.13"
  }
 },
 "nbformat": 4,
 "nbformat_minor": 5
}
