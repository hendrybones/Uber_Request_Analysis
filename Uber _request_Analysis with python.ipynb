{
 "cells": [
  {
   "cell_type": "markdown",
   "id": "8cff6e38",
   "metadata": {},
   "source": [
    "## Demand and Supply analysis for uber"
   ]
  },
  {
   "cell_type": "code",
   "execution_count": 22,
   "id": "3975dfe4",
   "metadata": {},
   "outputs": [
    {
     "name": "stdout",
     "output_type": "stream",
     "text": [
      "   Request id Pickup point  Driver id          Status    Request timestamp  \\\n",
      "0         619      Airport        1.0  Trip Completed      11/7/2016 11:51   \n",
      "1         867      Airport        1.0  Trip Completed      11/7/2016 17:57   \n",
      "2        1807         City        1.0  Trip Completed       12/7/2016 9:17   \n",
      "3        2532      Airport        1.0  Trip Completed      12/7/2016 21:08   \n",
      "4        3112         City        1.0  Trip Completed  13-07-2016 08:33:16   \n",
      "\n",
      "        Drop timestamp  \n",
      "0      11/7/2016 13:00  \n",
      "1      11/7/2016 18:47  \n",
      "2       12/7/2016 9:58  \n",
      "3      12/7/2016 22:03  \n",
      "4  13-07-2016 09:25:47  \n"
     ]
    }
   ],
   "source": [
    "import pandas as pd\n",
    "import numpy as np\n",
    "import plotly.express as px\n",
    "import plotly.graph_objects as go\n",
    "import plotly.io as pio\n",
    "import seaborn as sns\n",
    "pio.templates.default = \"plotly_white\"\n",
    "data = pd.read_csv('Uber Request Data.csv')\n",
    "print(data.head())"
   ]
  },
  {
   "cell_type": "markdown",
   "id": "8d98e7da",
   "metadata": {},
   "source": [
    "## Cheking null values in our data set"
   ]
  },
  {
   "cell_type": "code",
   "execution_count": 23,
   "id": "b921cec4",
   "metadata": {},
   "outputs": [
    {
     "name": "stdout",
     "output_type": "stream",
     "text": [
      "Request id              0\n",
      "Pickup point            0\n",
      "Driver id            2650\n",
      "Status                  0\n",
      "Request timestamp       0\n",
      "Drop timestamp       3914\n",
      "dtype: int64\n"
     ]
    }
   ],
   "source": [
    "print(data.isnull().sum())"
   ]
  },
  {
   "cell_type": "markdown",
   "id": "eba1f917",
   "metadata": {},
   "source": [
    "## cheking number of our records"
   ]
  },
  {
   "cell_type": "code",
   "execution_count": 24,
   "id": "ca08b69c",
   "metadata": {},
   "outputs": [
    {
     "name": "stdout",
     "output_type": "stream",
     "text": [
      "6745\n",
      "6\n"
     ]
    }
   ],
   "source": [
    "rows=data.shape[0]\n",
    "columns=data.shape[1]\n",
    "print(rows)\n",
    "print(columns)\n",
    "\n"
   ]
  },
  {
   "cell_type": "markdown",
   "id": "5008e11f",
   "metadata": {},
   "source": [
    "## Cheking basic information about our data set"
   ]
  },
  {
   "cell_type": "code",
   "execution_count": 25,
   "id": "1814cad3",
   "metadata": {},
   "outputs": [
    {
     "name": "stdout",
     "output_type": "stream",
     "text": [
      "<class 'pandas.core.frame.DataFrame'>\n",
      "RangeIndex: 6745 entries, 0 to 6744\n",
      "Data columns (total 6 columns):\n",
      " #   Column             Non-Null Count  Dtype  \n",
      "---  ------             --------------  -----  \n",
      " 0   Request id         6745 non-null   int64  \n",
      " 1   Pickup point       6745 non-null   object \n",
      " 2   Driver id          4095 non-null   float64\n",
      " 3   Status             6745 non-null   object \n",
      " 4   Request timestamp  6745 non-null   object \n",
      " 5   Drop timestamp     2831 non-null   object \n",
      "dtypes: float64(1), int64(1), object(4)\n",
      "memory usage: 316.3+ KB\n"
     ]
    }
   ],
   "source": [
    "data.info()"
   ]
  },
  {
   "cell_type": "markdown",
   "id": "ee70b601",
   "metadata": {},
   "source": [
    "## How many trips were completed and cancelled"
   ]
  },
  {
   "cell_type": "code",
   "execution_count": 26,
   "id": "8fdd9bfe",
   "metadata": {},
   "outputs": [
    {
     "data": {
      "text/plain": [
       "Trip Completed       2831\n",
       "No Cars Available    2650\n",
       "Cancelled            1264\n",
       "Name: Status, dtype: int64"
      ]
     },
     "execution_count": 26,
     "metadata": {},
     "output_type": "execute_result"
    }
   ],
   "source": [
    "data.Status.value_counts()"
   ]
  },
  {
   "cell_type": "markdown",
   "id": "101c0cec",
   "metadata": {},
   "source": [
    "## Rename columns for easy manipulation"
   ]
  },
  {
   "cell_type": "code",
   "execution_count": 27,
   "id": "844ea9ba",
   "metadata": {},
   "outputs": [
    {
     "data": {
      "text/html": [
       "<div>\n",
       "<style scoped>\n",
       "    .dataframe tbody tr th:only-of-type {\n",
       "        vertical-align: middle;\n",
       "    }\n",
       "\n",
       "    .dataframe tbody tr th {\n",
       "        vertical-align: top;\n",
       "    }\n",
       "\n",
       "    .dataframe thead th {\n",
       "        text-align: right;\n",
       "    }\n",
       "</style>\n",
       "<table border=\"1\" class=\"dataframe\">\n",
       "  <thead>\n",
       "    <tr style=\"text-align: right;\">\n",
       "      <th></th>\n",
       "      <th>Request_id</th>\n",
       "      <th>Pickup_point</th>\n",
       "      <th>Driver_id</th>\n",
       "      <th>Status</th>\n",
       "      <th>Request_timestamp</th>\n",
       "      <th>Drop_timestamp</th>\n",
       "    </tr>\n",
       "  </thead>\n",
       "  <tbody>\n",
       "    <tr>\n",
       "      <th>0</th>\n",
       "      <td>619</td>\n",
       "      <td>Airport</td>\n",
       "      <td>1.0</td>\n",
       "      <td>Trip Completed</td>\n",
       "      <td>11/7/2016 11:51</td>\n",
       "      <td>11/7/2016 13:00</td>\n",
       "    </tr>\n",
       "    <tr>\n",
       "      <th>1</th>\n",
       "      <td>867</td>\n",
       "      <td>Airport</td>\n",
       "      <td>1.0</td>\n",
       "      <td>Trip Completed</td>\n",
       "      <td>11/7/2016 17:57</td>\n",
       "      <td>11/7/2016 18:47</td>\n",
       "    </tr>\n",
       "    <tr>\n",
       "      <th>2</th>\n",
       "      <td>1807</td>\n",
       "      <td>City</td>\n",
       "      <td>1.0</td>\n",
       "      <td>Trip Completed</td>\n",
       "      <td>12/7/2016 9:17</td>\n",
       "      <td>12/7/2016 9:58</td>\n",
       "    </tr>\n",
       "    <tr>\n",
       "      <th>3</th>\n",
       "      <td>2532</td>\n",
       "      <td>Airport</td>\n",
       "      <td>1.0</td>\n",
       "      <td>Trip Completed</td>\n",
       "      <td>12/7/2016 21:08</td>\n",
       "      <td>12/7/2016 22:03</td>\n",
       "    </tr>\n",
       "    <tr>\n",
       "      <th>4</th>\n",
       "      <td>3112</td>\n",
       "      <td>City</td>\n",
       "      <td>1.0</td>\n",
       "      <td>Trip Completed</td>\n",
       "      <td>13-07-2016 08:33:16</td>\n",
       "      <td>13-07-2016 09:25:47</td>\n",
       "    </tr>\n",
       "  </tbody>\n",
       "</table>\n",
       "</div>"
      ],
      "text/plain": [
       "   Request_id Pickup_point  Driver_id          Status    Request_timestamp  \\\n",
       "0         619      Airport        1.0  Trip Completed      11/7/2016 11:51   \n",
       "1         867      Airport        1.0  Trip Completed      11/7/2016 17:57   \n",
       "2        1807         City        1.0  Trip Completed       12/7/2016 9:17   \n",
       "3        2532      Airport        1.0  Trip Completed      12/7/2016 21:08   \n",
       "4        3112         City        1.0  Trip Completed  13-07-2016 08:33:16   \n",
       "\n",
       "        Drop_timestamp  \n",
       "0      11/7/2016 13:00  \n",
       "1      11/7/2016 18:47  \n",
       "2       12/7/2016 9:58  \n",
       "3      12/7/2016 22:03  \n",
       "4  13-07-2016 09:25:47  "
      ]
     },
     "execution_count": 27,
     "metadata": {},
     "output_type": "execute_result"
    }
   ],
   "source": [
    "## first we rename columns in the data set\n",
    "newData=data.rename(columns={'Request id': 'Request_id', 'Driver id': 'Driver_id','Pickup point':'Pickup_point',\n",
    "                             'Request timestamp':'Request_timestamp','Drop timestamp':'Drop_timestamp'})\n",
    "newData.head()"
   ]
  },
  {
   "cell_type": "markdown",
   "id": "9c11af05",
   "metadata": {},
   "source": [
    "## Number of rides  by each driver  in our data set"
   ]
  },
  {
   "cell_type": "code",
   "execution_count": 28,
   "id": "48ca8931",
   "metadata": {},
   "outputs": [
    {
     "name": "stdout",
     "output_type": "stream",
     "text": [
      "Driver_id\n",
      "1.0      13\n",
      "2.0      13\n",
      "3.0      14\n",
      "4.0      15\n",
      "5.0      13\n",
      "         ..\n",
      "296.0    14\n",
      "297.0    15\n",
      "298.0    15\n",
      "299.0    12\n",
      "300.0     6\n",
      "Name: Request_id, Length: 300, dtype: int64\n"
     ]
    }
   ],
   "source": [
    "rideNum=newData.groupby('Driver_id')['Request_id'].nunique() \n",
    "print(rideNum)"
   ]
  },
  {
   "cell_type": "markdown",
   "id": "50094ad3",
   "metadata": {},
   "source": [
    "## The driver with the highest number of rides\n"
   ]
  },
  {
   "cell_type": "code",
   "execution_count": 29,
   "id": "9a01464c",
   "metadata": {},
   "outputs": [
    {
     "name": "stdout",
     "output_type": "stream",
     "text": [
      "22\n"
     ]
    }
   ],
   "source": [
    "rideNum=newData.groupby('Driver_id')['Request_id'].nunique() \n",
    "print(rideNum.max())"
   ]
  },
  {
   "cell_type": "markdown",
   "id": "76d9b596",
   "metadata": {},
   "source": [
    "## The driver with the lowest number of rides"
   ]
  },
  {
   "cell_type": "code",
   "execution_count": 30,
   "id": "03084369",
   "metadata": {},
   "outputs": [
    {
     "name": "stdout",
     "output_type": "stream",
     "text": [
      "6\n"
     ]
    }
   ],
   "source": [
    "rideNum=newData.groupby('Driver_id')['Request_id'].nunique() \n",
    "print(rideNum.min())"
   ]
  },
  {
   "cell_type": "markdown",
   "id": "97e4e492",
   "metadata": {},
   "source": [
    "## List of Driver with completed, cancelled and unavaliable"
   ]
  },
  {
   "cell_type": "code",
   "execution_count": 31,
   "id": "83b6ada6",
   "metadata": {},
   "outputs": [
    {
     "name": "stdout",
     "output_type": "stream",
     "text": [
      "Pickup_point                 Airport            City\n",
      "Driver_id Request_id                                \n",
      "1.0       619         Trip Completed             NaN\n",
      "          867         Trip Completed             NaN\n",
      "          1807                   NaN  Trip Completed\n",
      "          2532        Trip Completed             NaN\n",
      "          2905                   NaN       Cancelled\n",
      "...                              ...             ...\n",
      "300.0     2924                   NaN  Trip Completed\n",
      "          3324        Trip Completed             NaN\n",
      "          3935        Trip Completed             NaN\n",
      "          4225                   NaN       Cancelled\n",
      "          5844        Trip Completed             NaN\n",
      "\n",
      "[4095 rows x 2 columns]\n"
     ]
    }
   ],
   "source": [
    "StatusSummary = newData.pivot_table(values='Status', index=['Driver_id', 'Request_id'],\n",
    "                    columns=['Pickup_point'], aggfunc=np.sum)\n",
    "print(StatusSummary)"
   ]
  },
  {
   "cell_type": "markdown",
   "id": "9d913d02",
   "metadata": {},
   "source": [
    "## Where did most drop off occur"
   ]
  },
  {
   "cell_type": "code",
   "execution_count": 33,
   "id": "a3c89765",
   "metadata": {},
   "outputs": [
    {
     "data": {
      "text/plain": [
       "City       3507\n",
       "Airport    3238\n",
       "Name: Pickup_point, dtype: int64"
      ]
     },
     "execution_count": 33,
     "metadata": {},
     "output_type": "execute_result"
    }
   ],
   "source": [
    "newData.Pickup_point.value_counts()"
   ]
  },
  {
   "cell_type": "markdown",
   "id": "00e69a57",
   "metadata": {},
   "source": [
    "## Changing pickup and drop time to date format for easy analysis"
   ]
  },
  {
   "cell_type": "code",
   "execution_count": 37,
   "id": "f01f9fce",
   "metadata": {},
   "outputs": [
    {
     "data": {
      "text/html": [
       "<div>\n",
       "<style scoped>\n",
       "    .dataframe tbody tr th:only-of-type {\n",
       "        vertical-align: middle;\n",
       "    }\n",
       "\n",
       "    .dataframe tbody tr th {\n",
       "        vertical-align: top;\n",
       "    }\n",
       "\n",
       "    .dataframe thead th {\n",
       "        text-align: right;\n",
       "    }\n",
       "</style>\n",
       "<table border=\"1\" class=\"dataframe\">\n",
       "  <thead>\n",
       "    <tr style=\"text-align: right;\">\n",
       "      <th></th>\n",
       "      <th>Request_id</th>\n",
       "      <th>Pickup_point</th>\n",
       "      <th>Driver_id</th>\n",
       "      <th>Status</th>\n",
       "      <th>Request_timestamp</th>\n",
       "      <th>Drop_timestamp</th>\n",
       "    </tr>\n",
       "  </thead>\n",
       "  <tbody>\n",
       "    <tr>\n",
       "      <th>0</th>\n",
       "      <td>619</td>\n",
       "      <td>Airport</td>\n",
       "      <td>1.0</td>\n",
       "      <td>Trip Completed</td>\n",
       "      <td>2016-11-07 11:51:00</td>\n",
       "      <td>2016-11-07 13:00:00</td>\n",
       "    </tr>\n",
       "    <tr>\n",
       "      <th>1</th>\n",
       "      <td>867</td>\n",
       "      <td>Airport</td>\n",
       "      <td>1.0</td>\n",
       "      <td>Trip Completed</td>\n",
       "      <td>2016-11-07 17:57:00</td>\n",
       "      <td>2016-11-07 18:47:00</td>\n",
       "    </tr>\n",
       "    <tr>\n",
       "      <th>2</th>\n",
       "      <td>1807</td>\n",
       "      <td>City</td>\n",
       "      <td>1.0</td>\n",
       "      <td>Trip Completed</td>\n",
       "      <td>2016-12-07 09:17:00</td>\n",
       "      <td>2016-12-07 09:58:00</td>\n",
       "    </tr>\n",
       "    <tr>\n",
       "      <th>3</th>\n",
       "      <td>2532</td>\n",
       "      <td>Airport</td>\n",
       "      <td>1.0</td>\n",
       "      <td>Trip Completed</td>\n",
       "      <td>2016-12-07 21:08:00</td>\n",
       "      <td>2016-12-07 22:03:00</td>\n",
       "    </tr>\n",
       "    <tr>\n",
       "      <th>4</th>\n",
       "      <td>3112</td>\n",
       "      <td>City</td>\n",
       "      <td>1.0</td>\n",
       "      <td>Trip Completed</td>\n",
       "      <td>2016-07-13 08:33:16</td>\n",
       "      <td>2016-07-13 09:25:47</td>\n",
       "    </tr>\n",
       "  </tbody>\n",
       "</table>\n",
       "</div>"
      ],
      "text/plain": [
       "   Request_id Pickup_point  Driver_id          Status   Request_timestamp  \\\n",
       "0         619      Airport        1.0  Trip Completed 2016-11-07 11:51:00   \n",
       "1         867      Airport        1.0  Trip Completed 2016-11-07 17:57:00   \n",
       "2        1807         City        1.0  Trip Completed 2016-12-07 09:17:00   \n",
       "3        2532      Airport        1.0  Trip Completed 2016-12-07 21:08:00   \n",
       "4        3112         City        1.0  Trip Completed 2016-07-13 08:33:16   \n",
       "\n",
       "       Drop_timestamp  \n",
       "0 2016-11-07 13:00:00  \n",
       "1 2016-11-07 18:47:00  \n",
       "2 2016-12-07 09:58:00  \n",
       "3 2016-12-07 22:03:00  \n",
       "4 2016-07-13 09:25:47  "
      ]
     },
     "execution_count": 37,
     "metadata": {},
     "output_type": "execute_result"
    }
   ],
   "source": [
    "newData['Request_timestamp'] = pd.to_datetime(newData['Request_timestamp'],\n",
    "                                       errors='coerce')\n",
    "newData['Drop_timestamp'] = pd.to_datetime(newData['Drop_timestamp'],\n",
    "                                     errors='coerce')\n",
    "newData.head()"
   ]
  },
  {
   "cell_type": "markdown",
   "id": "ed11a57c",
   "metadata": {},
   "source": [
    "## Splitting the Reuest time to date and time column and then converting the time into four different categories i.e. Morning, Afternoon, Evening, Night"
   ]
  },
  {
   "cell_type": "code",
   "execution_count": 40,
   "id": "2f823118",
   "metadata": {},
   "outputs": [
    {
     "data": {
      "text/html": [
       "<div>\n",
       "<style scoped>\n",
       "    .dataframe tbody tr th:only-of-type {\n",
       "        vertical-align: middle;\n",
       "    }\n",
       "\n",
       "    .dataframe tbody tr th {\n",
       "        vertical-align: top;\n",
       "    }\n",
       "\n",
       "    .dataframe thead th {\n",
       "        text-align: right;\n",
       "    }\n",
       "</style>\n",
       "<table border=\"1\" class=\"dataframe\">\n",
       "  <thead>\n",
       "    <tr style=\"text-align: right;\">\n",
       "      <th></th>\n",
       "      <th>Request_id</th>\n",
       "      <th>Pickup_point</th>\n",
       "      <th>Driver_id</th>\n",
       "      <th>Status</th>\n",
       "      <th>Request_timestamp</th>\n",
       "      <th>Drop_timestamp</th>\n",
       "      <th>date</th>\n",
       "      <th>time</th>\n",
       "      <th>day-night</th>\n",
       "    </tr>\n",
       "  </thead>\n",
       "  <tbody>\n",
       "    <tr>\n",
       "      <th>0</th>\n",
       "      <td>619</td>\n",
       "      <td>Airport</td>\n",
       "      <td>1.0</td>\n",
       "      <td>Trip Completed</td>\n",
       "      <td>2016-11-07 11:51:00</td>\n",
       "      <td>2016-11-07 13:00:00</td>\n",
       "      <td>2016-11-07</td>\n",
       "      <td>11</td>\n",
       "      <td>Afternoon</td>\n",
       "    </tr>\n",
       "    <tr>\n",
       "      <th>1</th>\n",
       "      <td>867</td>\n",
       "      <td>Airport</td>\n",
       "      <td>1.0</td>\n",
       "      <td>Trip Completed</td>\n",
       "      <td>2016-11-07 17:57:00</td>\n",
       "      <td>2016-11-07 18:47:00</td>\n",
       "      <td>2016-11-07</td>\n",
       "      <td>17</td>\n",
       "      <td>Evening</td>\n",
       "    </tr>\n",
       "    <tr>\n",
       "      <th>2</th>\n",
       "      <td>1807</td>\n",
       "      <td>City</td>\n",
       "      <td>1.0</td>\n",
       "      <td>Trip Completed</td>\n",
       "      <td>2016-12-07 09:17:00</td>\n",
       "      <td>2016-12-07 09:58:00</td>\n",
       "      <td>2016-12-07</td>\n",
       "      <td>9</td>\n",
       "      <td>Morning</td>\n",
       "    </tr>\n",
       "    <tr>\n",
       "      <th>3</th>\n",
       "      <td>2532</td>\n",
       "      <td>Airport</td>\n",
       "      <td>1.0</td>\n",
       "      <td>Trip Completed</td>\n",
       "      <td>2016-12-07 21:08:00</td>\n",
       "      <td>2016-12-07 22:03:00</td>\n",
       "      <td>2016-12-07</td>\n",
       "      <td>21</td>\n",
       "      <td>Night</td>\n",
       "    </tr>\n",
       "    <tr>\n",
       "      <th>4</th>\n",
       "      <td>3112</td>\n",
       "      <td>City</td>\n",
       "      <td>1.0</td>\n",
       "      <td>Trip Completed</td>\n",
       "      <td>2016-07-13 08:33:16</td>\n",
       "      <td>2016-07-13 09:25:47</td>\n",
       "      <td>2016-07-13</td>\n",
       "      <td>8</td>\n",
       "      <td>Morning</td>\n",
       "    </tr>\n",
       "  </tbody>\n",
       "</table>\n",
       "</div>"
      ],
      "text/plain": [
       "   Request_id Pickup_point  Driver_id          Status   Request_timestamp  \\\n",
       "0         619      Airport        1.0  Trip Completed 2016-11-07 11:51:00   \n",
       "1         867      Airport        1.0  Trip Completed 2016-11-07 17:57:00   \n",
       "2        1807         City        1.0  Trip Completed 2016-12-07 09:17:00   \n",
       "3        2532      Airport        1.0  Trip Completed 2016-12-07 21:08:00   \n",
       "4        3112         City        1.0  Trip Completed 2016-07-13 08:33:16   \n",
       "\n",
       "       Drop_timestamp        date  time  day-night  \n",
       "0 2016-11-07 13:00:00  2016-11-07    11  Afternoon  \n",
       "1 2016-11-07 18:47:00  2016-11-07    17    Evening  \n",
       "2 2016-12-07 09:58:00  2016-12-07     9    Morning  \n",
       "3 2016-12-07 22:03:00  2016-12-07    21      Night  \n",
       "4 2016-07-13 09:25:47  2016-07-13     8    Morning  "
      ]
     },
     "execution_count": 40,
     "metadata": {},
     "output_type": "execute_result"
    }
   ],
   "source": [
    "from datetime import datetime\n",
    " \n",
    "newData['date'] = pd.DatetimeIndex(newData['Request_timestamp']).date\n",
    "newData['time'] = pd.DatetimeIndex(newData['Request_timestamp']).hour\n",
    " \n",
    "#changing into categories of day and night\n",
    "newData['day-night'] = pd.cut(x=newData['time'],\n",
    "                              bins = [0,10,15,19,24],\n",
    "                              labels = ['Morning','Afternoon','Evening','Night'])\n",
    "newData.head()\n"
   ]
  },
  {
   "cell_type": "markdown",
   "id": "46f1f65d",
   "metadata": {},
   "source": [
    "## Droping columns with null values"
   ]
  },
  {
   "cell_type": "code",
   "execution_count": 42,
   "id": "d4d248fd",
   "metadata": {},
   "outputs": [],
   "source": [
    "## data without columns with null values\n",
    "newData.dropna(inplace=True)"
   ]
  },
  {
   "cell_type": "markdown",
   "id": "843887f1",
   "metadata": {},
   "source": [
    "## Removing duplicates from rows"
   ]
  },
  {
   "cell_type": "code",
   "execution_count": 43,
   "id": "4ffaf9cf",
   "metadata": {},
   "outputs": [],
   "source": [
    "newData.drop_duplicates(inplace=True)"
   ]
  },
  {
   "cell_type": "markdown",
   "id": "0965c2c8",
   "metadata": {},
   "source": [
    "## Time taken by each ride\n"
   ]
  },
  {
   "cell_type": "code",
   "execution_count": 47,
   "id": "6de32cec",
   "metadata": {},
   "outputs": [
    {
     "data": {
      "text/html": [
       "<div>\n",
       "<style scoped>\n",
       "    .dataframe tbody tr th:only-of-type {\n",
       "        vertical-align: middle;\n",
       "    }\n",
       "\n",
       "    .dataframe tbody tr th {\n",
       "        vertical-align: top;\n",
       "    }\n",
       "\n",
       "    .dataframe thead th {\n",
       "        text-align: right;\n",
       "    }\n",
       "</style>\n",
       "<table border=\"1\" class=\"dataframe\">\n",
       "  <thead>\n",
       "    <tr style=\"text-align: right;\">\n",
       "      <th></th>\n",
       "      <th>Request_id</th>\n",
       "      <th>Pickup_point</th>\n",
       "      <th>Driver_id</th>\n",
       "      <th>Status</th>\n",
       "      <th>Request_timestamp</th>\n",
       "      <th>Drop_timestamp</th>\n",
       "      <th>date</th>\n",
       "      <th>time</th>\n",
       "      <th>day-night</th>\n",
       "      <th>Time-diff</th>\n",
       "    </tr>\n",
       "  </thead>\n",
       "  <tbody>\n",
       "    <tr>\n",
       "      <th>0</th>\n",
       "      <td>619</td>\n",
       "      <td>Airport</td>\n",
       "      <td>1.0</td>\n",
       "      <td>Trip Completed</td>\n",
       "      <td>2016-11-07 11:51:00</td>\n",
       "      <td>2016-11-07 13:00:00</td>\n",
       "      <td>2016-11-07</td>\n",
       "      <td>11</td>\n",
       "      <td>Afternoon</td>\n",
       "      <td>0 days 01:09:00</td>\n",
       "    </tr>\n",
       "    <tr>\n",
       "      <th>1</th>\n",
       "      <td>867</td>\n",
       "      <td>Airport</td>\n",
       "      <td>1.0</td>\n",
       "      <td>Trip Completed</td>\n",
       "      <td>2016-11-07 17:57:00</td>\n",
       "      <td>2016-11-07 18:47:00</td>\n",
       "      <td>2016-11-07</td>\n",
       "      <td>17</td>\n",
       "      <td>Evening</td>\n",
       "      <td>0 days 00:50:00</td>\n",
       "    </tr>\n",
       "    <tr>\n",
       "      <th>2</th>\n",
       "      <td>1807</td>\n",
       "      <td>City</td>\n",
       "      <td>1.0</td>\n",
       "      <td>Trip Completed</td>\n",
       "      <td>2016-12-07 09:17:00</td>\n",
       "      <td>2016-12-07 09:58:00</td>\n",
       "      <td>2016-12-07</td>\n",
       "      <td>9</td>\n",
       "      <td>Morning</td>\n",
       "      <td>0 days 00:41:00</td>\n",
       "    </tr>\n",
       "    <tr>\n",
       "      <th>3</th>\n",
       "      <td>2532</td>\n",
       "      <td>Airport</td>\n",
       "      <td>1.0</td>\n",
       "      <td>Trip Completed</td>\n",
       "      <td>2016-12-07 21:08:00</td>\n",
       "      <td>2016-12-07 22:03:00</td>\n",
       "      <td>2016-12-07</td>\n",
       "      <td>21</td>\n",
       "      <td>Night</td>\n",
       "      <td>0 days 00:55:00</td>\n",
       "    </tr>\n",
       "    <tr>\n",
       "      <th>4</th>\n",
       "      <td>3112</td>\n",
       "      <td>City</td>\n",
       "      <td>1.0</td>\n",
       "      <td>Trip Completed</td>\n",
       "      <td>2016-07-13 08:33:16</td>\n",
       "      <td>2016-07-13 09:25:47</td>\n",
       "      <td>2016-07-13</td>\n",
       "      <td>8</td>\n",
       "      <td>Morning</td>\n",
       "      <td>0 days 00:52:31</td>\n",
       "    </tr>\n",
       "  </tbody>\n",
       "</table>\n",
       "</div>"
      ],
      "text/plain": [
       "   Request_id Pickup_point  Driver_id          Status   Request_timestamp  \\\n",
       "0         619      Airport        1.0  Trip Completed 2016-11-07 11:51:00   \n",
       "1         867      Airport        1.0  Trip Completed 2016-11-07 17:57:00   \n",
       "2        1807         City        1.0  Trip Completed 2016-12-07 09:17:00   \n",
       "3        2532      Airport        1.0  Trip Completed 2016-12-07 21:08:00   \n",
       "4        3112         City        1.0  Trip Completed 2016-07-13 08:33:16   \n",
       "\n",
       "       Drop_timestamp        date  time  day-night       Time-diff  \n",
       "0 2016-11-07 13:00:00  2016-11-07    11  Afternoon 0 days 01:09:00  \n",
       "1 2016-11-07 18:47:00  2016-11-07    17    Evening 0 days 00:50:00  \n",
       "2 2016-12-07 09:58:00  2016-12-07     9    Morning 0 days 00:41:00  \n",
       "3 2016-12-07 22:03:00  2016-12-07    21      Night 0 days 00:55:00  \n",
       "4 2016-07-13 09:25:47  2016-07-13     8    Morning 0 days 00:52:31  "
      ]
     },
     "execution_count": 47,
     "metadata": {},
     "output_type": "execute_result"
    }
   ],
   "source": [
    "newData['Time-diff']=\n",
    "newData.head()"
   ]
  },
  {
   "cell_type": "markdown",
   "id": "1ecc4479",
   "metadata": {},
   "source": [
    "## Which weekdays had the highest average fares?"
   ]
  },
  {
   "cell_type": "code",
   "execution_count": null,
   "id": "b574afeb",
   "metadata": {},
   "outputs": [],
   "source": []
  }
 ],
 "metadata": {
  "kernelspec": {
   "display_name": "Python 3 (ipykernel)",
   "language": "python",
   "name": "python3"
  },
  "language_info": {
   "codemirror_mode": {
    "name": "ipython",
    "version": 3
   },
   "file_extension": ".py",
   "mimetype": "text/x-python",
   "name": "python",
   "nbconvert_exporter": "python",
   "pygments_lexer": "ipython3",
   "version": "3.9.13"
  }
 },
 "nbformat": 4,
 "nbformat_minor": 5
}
